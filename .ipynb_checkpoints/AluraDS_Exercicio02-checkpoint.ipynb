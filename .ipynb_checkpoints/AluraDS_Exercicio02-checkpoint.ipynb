{
 "cells": [
  {
   "cell_type": "code",
   "execution_count": 1,
   "id": "1565f769",
   "metadata": {},
   "outputs": [],
   "source": [
    "# Exercício baseado na aula - Análise exploratória de dados e mais gráficos\n",
    "\n",
    "# a) Utilizando o conjunto de dados movies.csv, carregue-o em um dataframe chamado filmes e renomeie \n",
    "# as colunas para \"filmeId\", \"titulo\" e \"generos\".\n",
    "\n",
    "# b) Calcule a média das notas para cada filme utilizando o método groupby do dataframe notas e \n",
    "# armazene o resultado em uma variável chamada medias_por_filme.\n",
    "\n",
    "# c) Plote um histograma das médias das notas utilizando a biblioteca Seaborn.\n",
    "\n",
    "# d) Plote um boxplot das médias das notas utilizando a biblioteca Matplotlib.\n",
    "\n",
    "# Esse exercício irá ajudar a praticar a análise exploratória de dados e a visualização \n",
    "# utilizando gráficos. Lembre-se de importar as bibliotecas necessárias e utilizar os códigos\n",
    "# apresentados na aula como referência. Divirta-se explorando os dados e visualizando as informações!"
   ]
  },
  {
   "cell_type": "code",
   "execution_count": 2,
   "id": "e534910d",
   "metadata": {},
   "outputs": [
    {
     "ename": "SyntaxError",
     "evalue": "invalid syntax (2781124754.py, line 1)",
     "output_type": "error",
     "traceback": [
      "\u001b[1;36m  Cell \u001b[1;32mIn[2], line 1\u001b[1;36m\u001b[0m\n\u001b[1;33m    pip install jupyter_contrib_nbextensions && jupyter contrib nbextension install\u001b[0m\n\u001b[1;37m        ^\u001b[0m\n\u001b[1;31mSyntaxError\u001b[0m\u001b[1;31m:\u001b[0m invalid syntax\n"
     ]
    }
   ],
   "source": [
    "pip install jupyter_contrib_nbextensions && jupyter contrib nbextension install\n",
    "\n"
   ]
  },
  {
   "cell_type": "code",
   "execution_count": null,
   "id": "03e71f50",
   "metadata": {},
   "outputs": [],
   "source": []
  }
 ],
 "metadata": {
  "kernelspec": {
   "display_name": "Python 3 (ipykernel)",
   "language": "python",
   "name": "python3"
  },
  "language_info": {
   "codemirror_mode": {
    "name": "ipython",
    "version": 3
   },
   "file_extension": ".py",
   "mimetype": "text/x-python",
   "name": "python",
   "nbconvert_exporter": "python",
   "pygments_lexer": "ipython3",
   "version": "3.11.5"
  }
 },
 "nbformat": 4,
 "nbformat_minor": 5
}
